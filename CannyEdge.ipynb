{
  "nbformat": 4,
  "nbformat_minor": 0,
  "metadata": {
    "colab": {
      "name": "CannyEdge.ipynb",
      "provenance": [],
      "collapsed_sections": []
    },
    "kernelspec": {
      "name": "python3",
      "display_name": "Python 3"
    }
  },
  "cells": [
    {
      "cell_type": "markdown",
      "metadata": {
        "id": "n37XsYYqngXa"
      },
      "source": [
        "### Import Libraries"
      ]
    },
    {
      "cell_type": "code",
      "metadata": {
        "id": "H6-SqegJgDvg"
      },
      "source": [
        "import numpy as np\n",
        "import cv2 as cv\n",
        "import matplotlib.pyplot as plt\n",
        "from scipy import ndimage\n",
        "import matplotlib.image as mpimg"
      ],
      "execution_count": 1,
      "outputs": []
    },
    {
      "cell_type": "markdown",
      "metadata": {
        "id": "b_OCo5mgn7VB"
      },
      "source": [
        "### Fucntions"
      ]
    },
    {
      "cell_type": "code",
      "metadata": {
        "id": "SPAr5ZltgHEB"
      },
      "source": [
        "def Noise_Reduction (img):\n",
        "    img = cv.GaussianBlur(img,(5,5),0.4) #5x5 filter with a sigma = 0.4\n",
        "    return img"
      ],
      "execution_count": 2,
      "outputs": []
    },
    {
      "cell_type": "code",
      "metadata": {
        "id": "kbOUWeZwgKpf"
      },
      "source": [
        "## Gradient Intensity\n",
        "\n",
        "# Gradient intensity helps detect edge intensity and direction, since\n",
        "# edges correspond to a change of pixel intensity.\n",
        "\n",
        "def Gradient_Intensity(img):\n",
        "    wx = np.array([[-1, 0, 1], [-2, 0, 2], [-1, 0, 1]])\n",
        "    wy = np.array([[-1, -2, -1], [0, 0, 0], [1, 2, 1]])\n",
        "    \n",
        "    sobelx = ndimage.filters.convolve(img, wx) # Convolution of the original image and X sobel kernel\n",
        "    sobely = ndimage.filters.convolve(img, wy) # Convolution of the original image and Y sobel kernel\n",
        "    \n",
        "    g = np.sqrt(np.square(sobelx) + np.square(sobely))\n",
        "    g *= 255.0 / g.max()\n",
        "\n",
        "    theta = np.arctan2(sobely, sobelx)\n",
        "    theta = np.rad2deg(g)\n",
        "    theta += 180\n",
        "    \n",
        "    return (g, theta)"
      ],
      "execution_count": 3,
      "outputs": []
    },
    {
      "cell_type": "code",
      "metadata": {
        "id": "6elip657gNE3"
      },
      "source": [
        "# Non-maximum supression\n",
        "\n",
        "def non_maximum_supression(img, Ang):\n",
        "    Row, Col = img.shape\n",
        "    GrdIntMtx = np.zeros(img.shape) # Gradient intensity matrix of zeros\n",
        "\n",
        "    for i in range(1,Row-1):\n",
        "        for j in range(1,Col-1):\n",
        "          angle = Ang[i,j]   \n",
        "          \n",
        "          if (0 <= angle < 22.5) or (337.5 <= angle <= 180):\n",
        "            old_pix = img[i,j-1]\n",
        "            new_pix = img[i,j+1]\n",
        "\n",
        "          elif (22.5 <= angle < 67.5) or (202.5 <= angle < 247.5):\n",
        "            old_pix = img[i+1,j-1]\n",
        "            new_pix = img[i-1,j+1]\n",
        "\n",
        "          elif (67.5 <= angle < 112.5) or (247.5 <= angle < 292.5):\n",
        "            old_pix = img[i-1,j]\n",
        "            new_pix = img[i+1,j]\n",
        "\n",
        "          else:\n",
        "            old_pix = img[i-1,j-1]\n",
        "            new_pix = img[i+1,j+1]            \n",
        "\n",
        "          if img[i,j] >= old_pix and img[i,j] >= new_pix:\n",
        "            GrdIntMtx[i,j] = img[i,j]\n",
        "\n",
        "    return GrdIntMtx"
      ],
      "execution_count": 4,
      "outputs": []
    },
    {
      "cell_type": "code",
      "metadata": {
        "id": "Dq9YUQnIgPMo"
      },
      "source": [
        "# Hysteresis Thresholding\n",
        "\n",
        "## Double Thresholding\n",
        "\n",
        "def Double_Thresholding(img,maxth,minth):\n",
        "    \n",
        "    output_DS = np.zeros(img.shape)\n",
        "    strongpixel = 255\n",
        "    weakpixel = 50\n",
        "    strongpix_R,strongpix_C = np.where(img>=maxth)\n",
        "    weakpix_R,weakpix_C = np.where((img<=maxth)&(img>=minth))\n",
        "\n",
        "    output_DS[strongpix_R,strongpix_C] = strongpixel\n",
        "    output_DS[weakpix_R,weakpix_C] = weakpixel\n",
        "    \n",
        "    return (output_DS)\n",
        "\n",
        "## Hysteresis Thresholding\n",
        "\n",
        "def hysteresis(img):\n",
        "    \n",
        "    weakpixel = 50\n",
        "    strongpixel = 255    \n",
        "    R, Col = img.shape\n",
        "    \n",
        "    T_to_B = img.copy()\n",
        "\n",
        "    for i in range(1, R):\n",
        "        for j in range(1,Col):\n",
        "            if T_to_B[i,j] == weakpixel:\n",
        "                if T_to_B[i, j+1] == strongpixel or T_to_B[i, j-1] == strongpixel or T_to_B[i-1, j] == strongpixel or T_to_B[i+1, j] == strongpixel or T_to_B[i-1, j-1] == strongpixel or T_to_B[i+1, j-1] == strongpixel or T_to_B[i-1, j+1] == strongpixel or T_to_B[i+1, j+1] == strongpixel:\n",
        "                  T_to_B[i, j] = strongpixel\n",
        "                else:\n",
        "                    T_to_B[i, j] = 0\n",
        "\n",
        "    B_to_T = img.copy()\n",
        "\n",
        "    for i in range(R-1,0,-1):\n",
        "        for j in range(Col-1,0,-1):\n",
        "            if B_to_T[i,j] == weakpixel:\n",
        "                if B_to_T[i, j+1] == strongpixel or B_to_T[i, j-1] == strongpixel or B_to_T[i-1, j] == strongpixel or B_to_T[i+1, j] == strongpixel or B_to_T[i-1, j-1] == strongpixel or B_to_T[i+1, j-1] == strongpixel or B_to_T[i-1, j+1] == strongpixel or B_to_T[i+1, j+1] == strongpixel:\n",
        "                  B_to_T[i, j] = strongpixel\n",
        "                else:\n",
        "                    B_to_T[i, j] = 0\n",
        "    \n",
        "    R_to_L = img.copy()\n",
        "\n",
        "    for i in range(1,R):\n",
        "      for j in range(Col-1,0,-1):\n",
        "            if R_to_L[i,j] == weakpixel:\n",
        "                if R_to_L[i, j+1] == strongpixel or R_to_L[i, j-1] == strongpixel or R_to_L[i-1, j] == strongpixel or R_to_L[i+1, j] == strongpixel or R_to_L[i-1, j-1] == strongpixel or R_to_L[i+1, j-1] == strongpixel or R_to_L[i-1, j+1] == strongpixel or R_to_L[i+1, j+1] == strongpixel:\n",
        "                  R_to_L[i, j] = strongpixel\n",
        "                else:\n",
        "                    B_to_T[i, j] = 0\n",
        "\n",
        "    L_to_R = img.copy()\n",
        "\n",
        "    for i in range(R-1,0,-1):\n",
        "      for j in range(1, Col):\n",
        "            if L_to_R[i,j] == weakpixel:\n",
        "                if L_to_R[i, j+1] == strongpixel or L_to_R[i, j-1] == strongpixel or L_to_R[i-1, j] == strongpixel or L_to_R[i+1, j] == strongpixel or L_to_R[i-1, j-1] == strongpixel or L_to_R[i+1, j-1] == strongpixel or L_to_R[i-1, j+1] == strongpixel or L_to_R[i+1, j+1] == strongpixel:\n",
        "                  L_to_R[i, j] = strongpixel\n",
        "                else:\n",
        "                    L_to_R[i, j] = 0    \n",
        "\n",
        "    FinalHyst = T_to_B + B_to_T + R_to_L + L_to_R\n",
        "    FinalHyst [FinalHyst>strongpixel] = strongpixel\n",
        "\n",
        "    return FinalHyst"
      ],
      "execution_count": 5,
      "outputs": []
    },
    {
      "cell_type": "code",
      "metadata": {
        "colab": {
          "base_uri": "https://localhost:8080/",
          "height": 102
        },
        "id": "7rEhEcUfgTbP",
        "outputId": "4f1bf914-3671-4e4a-af1c-6e0525a60829"
      },
      "source": [
        "# Load the original image\n",
        "image_og = cv.imread(r\"/content/liver_id_8_image_1.png\")\n",
        "image = cv.cvtColor(image_og,cv.COLOR_BGR2GRAY)\n",
        "\n",
        "# Run the image through the manually constructed canny edge detection algorithm\n",
        "Noise_R = Noise_Reduction(image) # Noise Reduction\n",
        "#H_EQ = cv.equalizeHist(Noise_R) # Histogram Equalization\n",
        "#plt.imshow(Noise_R, cmap='gray')\n",
        "Gradient,Theta = Gradient_Intensity(Noise_R) # Gradient Computation \n",
        "NonMaxSupression = non_maximum_supression(Gradient,Theta) # Non-Maximal Supression\n",
        "DoubleThresh = Double_Thresholding(NonMaxSupression,4,1) # Double Thresholding\n",
        "EdgeImg = hysteresis(DoubleThresh) # Hysteresis\n",
        "\n",
        "# Run the image through OpenCV's algorithm\n",
        "imageCopy = cv.imread(r\"/content/liver_id_8_image_1.png\")\n",
        "imageCopy = cv.cvtColor(imageCopy,cv.COLOR_BGR2GRAY)\n",
        "ifnal = cv.Canny(imageCopy,50,255)\n",
        "\n",
        "plt.subplot(1,3,1)\n",
        "plt.imshow(image, cmap='gray')\n",
        "# plt.title('Healthy Liver Ultrasound Scan')\n",
        "plt.xticks([])\n",
        "plt.yticks([])\n",
        "\n",
        "plt.subplot(1,3,2)\n",
        "plt.imshow(EdgeImg, cmap='gray')\n",
        "# plt.title('Manually Constructed Canny Edge Detector using a 5x5 Kernel')\n",
        "plt.xticks([])\n",
        "plt.yticks([])\n",
        "\n",
        "plt.subplot(1,3,3)\n",
        "plt.imshow(ifnal, cmap ='gray')\n",
        "# plt.title('Canny Edge Detector using OpenCV Library')\n",
        "plt.xticks([])\n",
        "plt.yticks([])\n",
        "\n",
        "images_dir = '/content/'\n",
        "plt.savefig(f\"{images_dir}/Healthy_Liver.png\", bbox_inches=\"tight\")\n",
        "\n",
        "plt.show()\n",
        "\n"
      ],
      "execution_count": 6,
      "outputs": [
        {
          "output_type": "display_data",
          "data": {
            "image/png": "[encoded data removed]",
            "text/plain": [
              "<Figure size 432x288 with 3 Axes>"
            ]
          },
          "metadata": {
            "tags": []
          }
        }
      ]
    },
    {
      "cell_type": "code",
      "metadata": {
        "colab": {
          "base_uri": "https://localhost:8080/",
          "height": 138
        },
        "id": "m60Q-NmSgRgA",
        "outputId": "966721dc-1b14-4d6d-87f1-9300cf1ce8fa"
      },
      "source": [
        "## Comparing the edges of healthy vs fatty\n",
        "\n",
        "# Run the image through OpenCV's algorithm\n",
        "imageCopy = cv.imread(r\"/content/liver_id_8_image_1.png\")\n",
        "imageCopy = cv.cvtColor(imageCopy,cv.COLOR_BGR2GRAY)\n",
        "Noise_R = Noise_Reduction(imageCopy) # Noise Reduction\n",
        "H_EQ = cv.equalizeHist(Noise_R) # Histogram Equalization\n",
        "ifnal = cv.Canny(H_EQ,50,255)\n",
        "\n",
        "# Run the image through OpenCV's algorithm\n",
        "imageCopyf = cv.imread(r\"/content/liver_id_32_image_1.png\")\n",
        "imageCopyf = cv.cvtColor(imageCopyf,cv.COLOR_BGR2GRAY)\n",
        "Noise_Rf = Noise_Reduction(imageCopyf) # Noise Reduction\n",
        "H_EQf = cv.equalizeHist(Noise_R) # Histogram Equalization\n",
        "ifnalf = cv.Canny(H_EQf,50,255)\n",
        "\n",
        "plt.subplot(1,2,1)\n",
        "plt.imshow(ifnal, cmap='gray')\n",
        "# plt.title('Healthy Liver Ultrasound Scan')\n",
        "plt.xticks([])\n",
        "plt.yticks([])\n",
        "\n",
        "plt.subplot(1,2,2)\n",
        "plt.imshow(ifnalf, cmap='gray')\n",
        "# plt.title('Fatty Liver Ultrasound Scan')\n",
        "plt.xticks([])\n",
        "plt.yticks([])\n",
        "\n",
        "images_dir = '/content/'\n",
        "plt.savefig(f\"{images_dir}/Healthy_v_fatty_LiverHE.png\", dpi=1200, bbox_inches=\"tight\")\n",
        "\n",
        "plt.show()"
      ],
      "execution_count": 7,
      "outputs": [
        {
          "output_type": "display_data",
          "data": {
            "image/png": "[encoded data removed]",
            "text/plain": [
              "<Figure size 432x288 with 2 Axes>"
            ]
          },
          "metadata": {
            "tags": []
          }
        }
      ]
    },
    {
      "cell_type": "markdown",
      "metadata": {
        "id": "q2Yo2aIQ4UFv"
      },
      "source": [
        "Histogram Equalization makes it worse"
      ]
    }
  ]
}